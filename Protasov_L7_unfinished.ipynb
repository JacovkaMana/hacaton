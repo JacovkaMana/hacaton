{
  "nbformat": 4,
  "nbformat_minor": 0,
  "metadata": {
    "colab": {
      "name": "Protasov_L7_unfinished.ipynb",
      "provenance": [],
      "collapsed_sections": [],
      "include_colab_link": true
    },
    "kernelspec": {
      "name": "python3",
      "display_name": "Python 3"
    },
    "language_info": {
      "name": "python"
    }
  },
  "cells": [
    {
      "cell_type": "markdown",
      "metadata": {
        "id": "view-in-github",
        "colab_type": "text"
      },
      "source": [
        "<a href=\"https://colab.research.google.com/github/JacovkaMana/hacaton/blob/main/Protasov_L7_unfinished.ipynb\" target=\"_parent\"><img src=\"https://colab.research.google.com/assets/colab-badge.svg\" alt=\"Open In Colab\"/></a>"
      ]
    },
    {
      "cell_type": "code",
      "source": [
        "#pip install --upgrade xlrd"
      ],
      "metadata": {
        "id": "N6n6azt4TCBZ"
      },
      "execution_count": null,
      "outputs": []
    },
    {
      "cell_type": "code",
      "execution_count": null,
      "metadata": {
        "id": "YzoI_wJKazUP"
      },
      "outputs": [],
      "source": [
        "#%pip install statsmodels\n",
        "import numpy as np\n",
        "import matplotlib.pyplot as plt \n",
        "import matplotlib.dates as mpl_dates\n",
        "\n",
        "import pandas as pd \n",
        "import seaborn as sns\n",
        "from datetime import datetime\n",
        "\n",
        "import warnings\n",
        "warnings.filterwarnings('ignore')\n",
        "\n",
        "\n",
        "%matplotlib inline"
      ]
    },
    {
      "cell_type": "markdown",
      "source": [
        "Считывание и переименовывание данных"
      ],
      "metadata": {
        "id": "5_ufzlgmftQ3"
      }
    },
    {
      "cell_type": "code",
      "source": [
        "dates = ['Время движения час:мин:сек','Время работы двигателя, час:мин:сек','Время работы двигателя в движении, час:мин:сек','Время работы двигателя без движения, час:мин:сек','Время работы двигателя на холостом ходу, час:мин:сек','Время работы двигателя на нормальных оборотах, час:мин:сек','Время работы двигателя на предельных оборотах, час:мин:сек','Время с выключенным двигателем, час:мин:сек','Время работы двигателя под нагрузкой, час:мин:сек']\n",
        "columns1 = ['id','Date','Mileage','Moving','Enabled','ME', 'nME','HEnabled', 'NEnabled', 'PEnabled','Off','Load','V1','V2']\n",
        "columns2 = ['Name', 'id']\n",
        "dateparse = lambda x: datetime.strptime(x, '%H:%M:%S')\n",
        "dfirst = pd.read_excel('L7 Home Senior-1-1.xls', parse_dates=dates, date_parser=dateparse)\n",
        "#dfirst = pd.read_excel('L7 Home Senior-1-1.xls', index_col=0)\n",
        "dsecond = pd.read_excel('L7 Home Senior-1-2.xls')\n",
        "dfirst.columns = columns1\n",
        "dsecond.columns = columns2\n"
      ],
      "metadata": {
        "id": "5_s_hI4vbJAR"
      },
      "execution_count": null,
      "outputs": []
    },
    {
      "cell_type": "code",
      "source": [
        "print(dfirst.info(verbose=True))\n",
        "print(dfirst['Enabled'])"
      ],
      "metadata": {
        "colab": {
          "base_uri": "https://localhost:8080/"
        },
        "id": "inntk3vqWwuX",
        "outputId": "746f5887-3c36-430f-d514-1324db6e578f"
      },
      "execution_count": null,
      "outputs": [
        {
          "output_type": "stream",
          "name": "stdout",
          "text": [
            "<class 'pandas.core.frame.DataFrame'>\n",
            "RangeIndex: 1302 entries, 0 to 1301\n",
            "Data columns (total 14 columns):\n",
            " #   Column    Non-Null Count  Dtype         \n",
            "---  ------    --------------  -----         \n",
            " 0   id        1302 non-null   int64         \n",
            " 1   Date      1302 non-null   object        \n",
            " 2   Mileage   1302 non-null   float64       \n",
            " 3   Moving    1302 non-null   datetime64[ns]\n",
            " 4   Enabled   1258 non-null   datetime64[ns]\n",
            " 5   ME        1302 non-null   datetime64[ns]\n",
            " 6   nME       1302 non-null   datetime64[ns]\n",
            " 7   HEnabled  1302 non-null   datetime64[ns]\n",
            " 8   NEnabled  1296 non-null   datetime64[ns]\n",
            " 9   PEnabled  1302 non-null   datetime64[ns]\n",
            " 10  Off       456 non-null    datetime64[ns]\n",
            " 11  Load      1282 non-null   datetime64[ns]\n",
            " 12  V1        31 non-null     float64       \n",
            " 13  V2        31 non-null     float64       \n",
            "dtypes: datetime64[ns](9), float64(3), int64(1), object(1)\n",
            "memory usage: 142.5+ KB\n",
            "None\n",
            "0      1900-01-01 01:08:11\n",
            "1      1900-01-01 05:49:34\n",
            "2      1900-01-01 03:01:58\n",
            "3      1900-01-01 07:01:23\n",
            "4      1900-01-01 02:33:22\n",
            "               ...        \n",
            "1297   1900-01-01 10:16:00\n",
            "1298   1900-01-01 00:00:00\n",
            "1299   1900-01-01 00:00:00\n",
            "1300   1900-01-01 00:00:00\n",
            "1301   1900-01-01 00:00:00\n",
            "Name: Enabled, Length: 1302, dtype: datetime64[ns]\n"
          ]
        }
      ]
    },
    {
      "cell_type": "code",
      "source": [
        "from datetime import datetime, time, timedelta\n",
        "from random import randint\n",
        "\n",
        "def sum_time(time1, time2):\n",
        "    th1, tm1, ts1 = time1.hour, time1.minute, time1.second\n",
        "    th2, tm2, ts2 = time2.hour, time2.minute, time2.second\n",
        "\n",
        "    th3, tm3, ts3 = th1 + th2, tm1 + tm2, ts1 + ts2\n",
        "    tm3, ts3 = tm3 + ts3 // 60, ts3 % 60\n",
        "    th3, tm3 = th3 + tm3 // 60, tm3 % 60\n",
        "\n",
        "    # На всякий случай. Вдруг больше дня получится =)\n",
        "    th3 = th3 % 24\n",
        "\n",
        "    return time(th3, tm3, ts3)\n",
        "\n",
        "def minus_time(time1, time2, time3):\n",
        "    th1, tm1, ts1 = time1.hour, time1.minute, time1.second\n",
        "    th2, tm2, ts2 = time2.hour, time2.minute, time2.second\n",
        "    th3, tm3, ts3 = time3.hour, time3.minute, time3.second\n",
        "\n",
        "    th3, tm3, ts3 = th1 - th2 - th3, tm1 - tm2 - tm3, ts1 - ts2 - ts3\n",
        "    tm3, ts3 = tm3 + ts3 // 60, ts3 % 60\n",
        "    th3, tm3 = th3 + tm3 // 60, tm3 % 60\n",
        "\n",
        "    # На всякий случай. Вдруг больше дня получится =)\n",
        "    th3 = th3 % 24\n",
        "\n",
        "    return time(th3, tm3, ts3)\n",
        "\n",
        "\n",
        "def back_time(time1):\n",
        "    th1, tm1, ts1 = time1.hour, time1.minute, time1.second\n",
        "    return time(th1, tm1, ts1)\n",
        "\n",
        "def rnd_time():\n",
        "    th1 = randint(0,23)\n",
        "    tm1 = randint(0,59)\n",
        "    ts1 = randint(0,59)\n",
        "\n",
        "    return time(th1, tm1, ts1)\n",
        "    "
      ],
      "metadata": {
        "id": "3oxCztMJoSNB"
      },
      "execution_count": null,
      "outputs": []
    },
    {
      "cell_type": "code",
      "source": [
        "i = 0\n",
        "for index, row in dfirst.iterrows():\n",
        "  if pd.isnull(row[4]):\n",
        "    row[4] = sum_time(row[5],row[6])\n",
        "  else:\n",
        "    row[4] = back_time(row[4])\n",
        "\n",
        "  if pd.isnull(row[8]):\n",
        "    row[8] = minus_time(row[4], row[7], row[9])\n",
        "  else:\n",
        "    row[8] = back_time(row[8])\n",
        "\n",
        "  if pd.isnull(row[11]):\n",
        "    row[11] = sum_time(row[8], row[9])\n",
        "  else:\n",
        "    row[11] = back_time(row[11])\n",
        "\n",
        "  if pd.isnull(row[10]):\n",
        "    row[10] = rnd_time()\n",
        "  else:\n",
        "    row[10] = back_time(row[10])\n",
        "    \n",
        "\n",
        "  dfirst.at[i, 'Enabled'] = row[4]\n",
        "  dfirst.at[i, 'NEnabled'] = row[8]\n",
        "  dfirst.at[i, 'Load'] = row[11]\n",
        "  dfirst.at[i, 'Off'] = row[10]\n",
        "\n",
        "  dfirst.at[i,'Moving'] = back_time(row[3])\n",
        "  dfirst.at[i,'ME'] = back_time(row[5])\n",
        "  dfirst.at[i,'nME'] = back_time(row[6])\n",
        "  dfirst.at[i,'HEnabled'] = back_time(row[7])\n",
        "  dfirst.at[i,'PEnabled'] = back_time(row[9])\n",
        "  i += 1\n",
        "\n",
        "\n"
      ],
      "metadata": {
        "id": "_nagtkgbi7iV"
      },
      "execution_count": null,
      "outputs": []
    },
    {
      "cell_type": "code",
      "source": [
        "print(dfirst.info(verbose=True))"
      ],
      "metadata": {
        "colab": {
          "base_uri": "https://localhost:8080/"
        },
        "id": "Dq7CuQQT_Sal",
        "outputId": "4d4466f6-ac6c-4f0b-8712-69d06907d822"
      },
      "execution_count": null,
      "outputs": [
        {
          "output_type": "stream",
          "name": "stdout",
          "text": [
            "<class 'pandas.core.frame.DataFrame'>\n",
            "RangeIndex: 1302 entries, 0 to 1301\n",
            "Data columns (total 14 columns):\n",
            " #   Column    Non-Null Count  Dtype  \n",
            "---  ------    --------------  -----  \n",
            " 0   id        1302 non-null   int64  \n",
            " 1   Date      1302 non-null   object \n",
            " 2   Mileage   1302 non-null   float64\n",
            " 3   Moving    1302 non-null   object \n",
            " 4   Enabled   1302 non-null   object \n",
            " 5   ME        1302 non-null   object \n",
            " 6   nME       1302 non-null   object \n",
            " 7   HEnabled  1302 non-null   object \n",
            " 8   NEnabled  1302 non-null   object \n",
            " 9   PEnabled  1302 non-null   object \n",
            " 10  Off       1302 non-null   object \n",
            " 11  Load      1302 non-null   object \n",
            " 12  V1        31 non-null     float64\n",
            " 13  V2        31 non-null     float64\n",
            "dtypes: float64(3), int64(1), object(10)\n",
            "memory usage: 142.5+ KB\n",
            "None\n"
          ]
        }
      ]
    },
    {
      "cell_type": "code",
      "source": [
        "def total_time(time1):\n",
        "    th1, tm1, ts1 = time1.hour, time1.minute, time1.second\n",
        "    total = th1 * 60 * 60 + tm1 * 60 + ts1\n",
        "    return total\n",
        "\n",
        "for column in dfirst:\n",
        "  clk = dfirst.loc[0,column]\n",
        "  if type(clk) is time:\n",
        "    dfirst[column] = dfirst[column].apply(lambda x: total_time(x))\n",
        "    print(total_time(clk))"
      ],
      "metadata": {
        "colab": {
          "base_uri": "https://localhost:8080/"
        },
        "id": "dV0BYGWpCafM",
        "outputId": "6d2ee054-adb8-450a-fd48-907ff96bbc92"
      },
      "execution_count": null,
      "outputs": [
        {
          "output_type": "stream",
          "name": "stdout",
          "text": [
            "297\n",
            "4091\n",
            "297\n",
            "3794\n",
            "711\n",
            "3380\n",
            "0\n",
            "82309\n",
            "3380\n"
          ]
        }
      ]
    },
    {
      "cell_type": "code",
      "source": [
        "dcheck = dfirst.dropna()\n",
        "print(dcheck)"
      ],
      "metadata": {
        "colab": {
          "base_uri": "https://localhost:8080/"
        },
        "id": "aldRQI-c54Fb",
        "outputId": "531fd911-0bb8-4096-95bf-1178bf25365e"
      },
      "execution_count": null,
      "outputs": [
        {
          "output_type": "stream",
          "name": "stdout",
          "text": [
            "     id        Date  Mileage  Moving  Enabled    ME    nME  HEnabled  \\\n",
            "0   734  01.12.2021     1.21     297     4091   297   3794       711   \n",
            "1   734  02.12.2021     1.04     207    20974   206  20768     20821   \n",
            "2   734  03.12.2021     1.72     252    10918   252  10666      9440   \n",
            "3   734  04.12.2021     0.43     629    25283   629  24654     25097   \n",
            "4   734  05.12.2021     1.23     314     9202   302   8900      8992   \n",
            "5   734  06.12.2021     0.69     264    23162   264  22898     22637   \n",
            "6   734  07.12.2021     3.05     327    21949   325  21624     21575   \n",
            "7   734  08.12.2021    11.56    1799    32790  1799  30991     26310   \n",
            "8   734  09.12.2021     0.69     312    31940   312  31628     30277   \n",
            "9   734  10.12.2021     3.01       0      361     0    361       361   \n",
            "10  734  11.12.2021     2.18     253    10284   253  10031     10155   \n",
            "11  734  12.12.2021     1.45     531     4326   531   3795      3913   \n",
            "12  734  13.12.2021     0.30     150      180   150     30       180   \n",
            "13  734  14.12.2021     0.16      39     4199    39   4160      4199   \n",
            "14  734  15.12.2021     0.50       0        0     0      0         0   \n",
            "15  734  16.12.2021     0.20       0        0     0      0         0   \n",
            "16  734  17.12.2021     0.00       0        0     0      0         0   \n",
            "17  734  18.12.2021     0.00       0        0     0      0         0   \n",
            "18  734  19.12.2021     1.00     230     6180   230   5950      4650   \n",
            "19  734  20.12.2021     0.00       0        0     0      0         0   \n",
            "20  734  21.12.2021     0.71       0        0     0      0         0   \n",
            "21  734  22.12.2021     0.00       0        0     0      0         0   \n",
            "22  734  23.12.2021     0.00       0        0     0      0         0   \n",
            "23  734  24.12.2021     0.00       0        0     0      0         0   \n",
            "24  734  25.12.2021     0.00       0        0     0      0         0   \n",
            "25  734  26.12.2021     6.44     251     5042   251   4791      4832   \n",
            "26  734  27.12.2021     2.04     267      507   267    240       507   \n",
            "27  734  28.12.2021     4.80     288     8161   288   7873      7918   \n",
            "28  734  29.12.2021     6.47     137      300   137    163       300   \n",
            "29  734  30.12.2021     3.58     237     6267   237   6030      6087   \n",
            "30  734  31.12.2021     1.49     316     9804   286   9518      9804   \n",
            "\n",
            "    NEnabled  PEnabled    Off  Load     V1     V2  \n",
            "0       3380         0  82309  3380  315.4  297.0  \n",
            "1        153         0  65426   153  294.3  245.4  \n",
            "2       1478         0  75482  1478  244.9  217.8  \n",
            "3        186         0  61117   186  217.0  176.9  \n",
            "4        210         0  77198   210  174.1  127.6  \n",
            "5        525         0  63238   525  128.0  106.5  \n",
            "6        374         0  64451   374  107.1  486.1  \n",
            "7       6480         0  53610  6480  488.6  467.7  \n",
            "8       1663         0  54460  1663  475.6  428.2  \n",
            "9          0         0  86039     0  428.0  427.8  \n",
            "10       129         0  76116   129  427.8  381.4  \n",
            "11       413         0  82074   413  381.4  358.9  \n",
            "12         0         0  86220     0  358.8  358.7  \n",
            "13         0         0  82201     0  359.7  338.4  \n",
            "14         0         0  10695     0  351.7  351.8  \n",
            "15         0         0  82727     0  351.9  351.9  \n",
            "16         0         0  84518     0    0.0    0.0  \n",
            "17         0         0  62731     0  351.9  351.9  \n",
            "18      1530         0  80220  1530  351.9  300.2  \n",
            "19         0         0  42935     0  309.0  309.0  \n",
            "20         0         0  80061     0  309.0  309.4  \n",
            "21         0         0  30022     0    0.0    0.0  \n",
            "22         0         0  17125     0    0.0    0.0  \n",
            "23         0         0  15275     0    0.0    0.0  \n",
            "24         0         0  78797     0  310.9  310.9  \n",
            "25       210         0  81358   210  310.9  286.7  \n",
            "26         0         0  85893     0  286.3  286.3  \n",
            "27       243         0  78239   243  286.4  242.1  \n",
            "28         0         0  86100     0  241.2  241.2  \n",
            "29       180         0  80133   180  240.9  235.8  \n",
            "30         0         0  76536     0  235.3  185.1  \n"
          ]
        }
      ]
    },
    {
      "cell_type": "code",
      "source": [
        "dcheck['diff'] = dcheck['V1'] - dcheck['V2']\n",
        "dcheck['V1'].replace(0, np.nan, inplace=True)\n",
        "dcheck = dcheck.dropna()\n",
        "dcheck.drop(dcheck[dcheck.V2 > dcheck.V1].index, inplace=True)\n",
        "dcheck = dcheck.drop(['Date'], axis=1)"
      ],
      "metadata": {
        "id": "QWL5zN56IzGH"
      },
      "execution_count": null,
      "outputs": []
    },
    {
      "cell_type": "code",
      "source": [
        "print(dcheck.info())\n",
        "print(dcheck)"
      ],
      "metadata": {
        "colab": {
          "base_uri": "https://localhost:8080/"
        },
        "id": "0OGbAUdOJZ8X",
        "outputId": "3bdf8ec2-7174-4776-94e6-ac8257660a0f"
      },
      "execution_count": null,
      "outputs": [
        {
          "output_type": "stream",
          "name": "stdout",
          "text": [
            "<class 'pandas.core.frame.DataFrame'>\n",
            "Int64Index: 24 entries, 0 to 30\n",
            "Data columns (total 14 columns):\n",
            " #   Column    Non-Null Count  Dtype  \n",
            "---  ------    --------------  -----  \n",
            " 0   id        24 non-null     int64  \n",
            " 1   Mileage   24 non-null     float64\n",
            " 2   Moving    24 non-null     int64  \n",
            " 3   Enabled   24 non-null     int64  \n",
            " 4   ME        24 non-null     int64  \n",
            " 5   nME       24 non-null     int64  \n",
            " 6   HEnabled  24 non-null     int64  \n",
            " 7   NEnabled  24 non-null     int64  \n",
            " 8   PEnabled  24 non-null     int64  \n",
            " 9   Off       24 non-null     int64  \n",
            " 10  Load      24 non-null     int64  \n",
            " 11  V1        24 non-null     float64\n",
            " 12  V2        24 non-null     float64\n",
            " 13  diff      24 non-null     float64\n",
            "dtypes: float64(4), int64(10)\n",
            "memory usage: 2.8 KB\n",
            "None\n",
            "     id  Mileage  Moving  Enabled    ME    nME  HEnabled  NEnabled  PEnabled  \\\n",
            "0   734     1.21     297     4091   297   3794       711      3380         0   \n",
            "1   734     1.04     207    20974   206  20768     20821       153         0   \n",
            "2   734     1.72     252    10918   252  10666      9440      1478         0   \n",
            "3   734     0.43     629    25283   629  24654     25097       186         0   \n",
            "4   734     1.23     314     9202   302   8900      8992       210         0   \n",
            "5   734     0.69     264    23162   264  22898     22637       525         0   \n",
            "7   734    11.56    1799    32790  1799  30991     26310      6480         0   \n",
            "8   734     0.69     312    31940   312  31628     30277      1663         0   \n",
            "9   734     3.01       0      361     0    361       361         0         0   \n",
            "10  734     2.18     253    10284   253  10031     10155       129         0   \n",
            "11  734     1.45     531     4326   531   3795      3913       413         0   \n",
            "12  734     0.30     150      180   150     30       180         0         0   \n",
            "13  734     0.16      39     4199    39   4160      4199         0         0   \n",
            "15  734     0.20       0        0     0      0         0         0         0   \n",
            "17  734     0.00       0        0     0      0         0         0         0   \n",
            "18  734     1.00     230     6180   230   5950      4650      1530         0   \n",
            "19  734     0.00       0        0     0      0         0         0         0   \n",
            "24  734     0.00       0        0     0      0         0         0         0   \n",
            "25  734     6.44     251     5042   251   4791      4832       210         0   \n",
            "26  734     2.04     267      507   267    240       507         0         0   \n",
            "27  734     4.80     288     8161   288   7873      7918       243         0   \n",
            "28  734     6.47     137      300   137    163       300         0         0   \n",
            "29  734     3.58     237     6267   237   6030      6087       180         0   \n",
            "30  734     1.49     316     9804   286   9518      9804         0         0   \n",
            "\n",
            "      Off  Load     V1     V2  diff  \n",
            "0   82309  3380  315.4  297.0  18.4  \n",
            "1   65426   153  294.3  245.4  48.9  \n",
            "2   75482  1478  244.9  217.8  27.1  \n",
            "3   61117   186  217.0  176.9  40.1  \n",
            "4   77198   210  174.1  127.6  46.5  \n",
            "5   63238   525  128.0  106.5  21.5  \n",
            "7   53610  6480  488.6  467.7  20.9  \n",
            "8   54460  1663  475.6  428.2  47.4  \n",
            "9   86039     0  428.0  427.8   0.2  \n",
            "10  76116   129  427.8  381.4  46.4  \n",
            "11  82074   413  381.4  358.9  22.5  \n",
            "12  86220     0  358.8  358.7   0.1  \n",
            "13  82201     0  359.7  338.4  21.3  \n",
            "15  82727     0  351.9  351.9   0.0  \n",
            "17  62731     0  351.9  351.9   0.0  \n",
            "18  80220  1530  351.9  300.2  51.7  \n",
            "19  42935     0  309.0  309.0   0.0  \n",
            "24  78797     0  310.9  310.9   0.0  \n",
            "25  81358   210  310.9  286.7  24.2  \n",
            "26  85893     0  286.3  286.3   0.0  \n",
            "27  78239   243  286.4  242.1  44.3  \n",
            "28  86100     0  241.2  241.2   0.0  \n",
            "29  80133   180  240.9  235.8   5.1  \n",
            "30  76536     0  235.3  185.1  50.2  \n"
          ]
        }
      ]
    },
    {
      "cell_type": "code",
      "source": [
        "mask = np.zeros_like(dcheck.corr())\n",
        "triangle_indices=np.triu_indices_from(mask)\n",
        "mask[triangle_indices]= True\n",
        "from numpy.ma.core import mask_or\n",
        "plt.figure(figsize=(10,6))\n",
        "sns.heatmap(dcheck.corr(), annot=True, annot_kws={'size':10}, mask=mask)\n",
        "sns.set_style('white')\n",
        "plt.xticks(fontsize=10)\n",
        "plt.yticks(fontsize=10)"
      ],
      "metadata": {
        "colab": {
          "base_uri": "https://localhost:8080/",
          "height": 451
        },
        "id": "TMv5tG6H76fz",
        "outputId": "0c55be52-077f-4618-9ab0-c8ef7bb48b5e"
      },
      "execution_count": null,
      "outputs": [
        {
          "output_type": "execute_result",
          "data": {
            "text/plain": [
              "(array([ 0.5,  1.5,  2.5,  3.5,  4.5,  5.5,  6.5,  7.5,  8.5,  9.5, 10.5,\n",
              "        11.5, 12.5, 13.5]), <a list of 14 Text major ticklabel objects>)"
            ]
          },
          "metadata": {},
          "execution_count": 327
        },
        {
          "output_type": "display_data",
          "data": {
            "text/plain": [
              "<Figure size 720x432 with 2 Axes>"
            ],
            "image/png": "[encoded data removed]"
          },
          "metadata": {
            "needs_background": "light"
          }
        }
      ]
    },
    {
      "cell_type": "code",
      "source": [
        "from sklearn.model_selection import train_test_split\n",
        "key = dcheck['diff']\n",
        "features =  dcheck.drop(['diff','V1','V2'], axis=1)\n",
        "X_train, X_test, y_train, y_test = train_test_split(features, key, test_size = 0.05, random_state=10)\n",
        "print(X_train.shape)\n",
        "print(y_train.shape)\n",
        "\n",
        "print(X_test.shape)\n",
        "print(y_test.shape)\n"
      ],
      "metadata": {
        "colab": {
          "base_uri": "https://localhost:8080/"
        },
        "id": "t_VCP-kp9Xun",
        "outputId": "3ab6e1e5-472c-45d6-ccb8-ede2abe534c8"
      },
      "execution_count": null,
      "outputs": [
        {
          "output_type": "stream",
          "name": "stdout",
          "text": [
            "(22, 11)\n",
            "(22,)\n",
            "(2, 11)\n",
            "(2,)\n"
          ]
        }
      ]
    },
    {
      "cell_type": "markdown",
      "source": [
        "Без логарифмирования"
      ],
      "metadata": {
        "id": "sGxuBQq4Q2jN"
      }
    },
    {
      "cell_type": "code",
      "source": [
        "from sklearn.linear_model import LinearRegression\n",
        "regr = LinearRegression()\n",
        "regr.fit(X_train, y_train)\n",
        "print('Коэффициент детерминации тренировочных данных: ',regr.score(X_train, y_train))\n",
        "print('Коэффициент детерминации тестовых данных: ',regr.score(X_test, y_test))\n",
        "print('Точка пересечения с осью ординат: ', regr.intercept_)\n",
        "pd.DataFrame(data = regr.coef_, index = X_train.columns, columns = ['coef'])"
      ],
      "metadata": {
        "colab": {
          "base_uri": "https://localhost:8080/",
          "height": 446
        },
        "id": "NRssGjM49o0t",
        "outputId": "1d5dd7e0-058c-4cea-c77f-5d94e2540053"
      },
      "execution_count": null,
      "outputs": [
        {
          "output_type": "stream",
          "name": "stdout",
          "text": [
            "Коэффициент детерминации тренировочных данных:  0.5734187171555258\n",
            "Коэффициент детерминации тестовых данных:  -0.5620596917127658\n",
            "Точка пересечения с осью ординат:  -25.97453308120032\n"
          ]
        },
        {
          "output_type": "execute_result",
          "data": {
            "text/plain": [
              "                  coef\n",
              "id        0.000000e+00\n",
              "Mileage  -7.697845e-01\n",
              "Moving    9.925505e-01\n",
              "Enabled  -2.312588e-01\n",
              "ME       -6.185767e-01\n",
              "nME       3.873179e-01\n",
              "HEnabled -1.541194e-01\n",
              "NEnabled -7.713938e-02\n",
              "PEnabled  8.968310e-44\n",
              "Off       4.788478e-04\n",
              "Load     -7.713938e-02"
            ],
            "text/html": [
              "\n",
              "  <div id=\"df-9ae46c63-ae28-4f70-ab38-cd583cc42b67\">\n",
              "    <div class=\"colab-df-container\">\n",
              "      <div>\n",
              "<style scoped>\n",
              "    .dataframe tbody tr th:only-of-type {\n",
              "        vertical-align: middle;\n",
              "    }\n",
              "\n",
              "    .dataframe tbody tr th {\n",
              "        vertical-align: top;\n",
              "    }\n",
              "\n",
              "    .dataframe thead th {\n",
              "        text-align: right;\n",
              "    }\n",
              "</style>\n",
              "<table border=\"1\" class=\"dataframe\">\n",
              "  <thead>\n",
              "    <tr style=\"text-align: right;\">\n",
              "      <th></th>\n",
              "      <th>coef</th>\n",
              "    </tr>\n",
              "  </thead>\n",
              "  <tbody>\n",
              "    <tr>\n",
              "      <th>id</th>\n",
              "      <td>0.000000e+00</td>\n",
              "    </tr>\n",
              "    <tr>\n",
              "      <th>Mileage</th>\n",
              "      <td>-7.697845e-01</td>\n",
              "    </tr>\n",
              "    <tr>\n",
              "      <th>Moving</th>\n",
              "      <td>9.925505e-01</td>\n",
              "    </tr>\n",
              "    <tr>\n",
              "      <th>Enabled</th>\n",
              "      <td>-2.312588e-01</td>\n",
              "    </tr>\n",
              "    <tr>\n",
              "      <th>ME</th>\n",
              "      <td>-6.185767e-01</td>\n",
              "    </tr>\n",
              "    <tr>\n",
              "      <th>nME</th>\n",
              "      <td>3.873179e-01</td>\n",
              "    </tr>\n",
              "    <tr>\n",
              "      <th>HEnabled</th>\n",
              "      <td>-1.541194e-01</td>\n",
              "    </tr>\n",
              "    <tr>\n",
              "      <th>NEnabled</th>\n",
              "      <td>-7.713938e-02</td>\n",
              "    </tr>\n",
              "    <tr>\n",
              "      <th>PEnabled</th>\n",
              "      <td>8.968310e-44</td>\n",
              "    </tr>\n",
              "    <tr>\n",
              "      <th>Off</th>\n",
              "      <td>4.788478e-04</td>\n",
              "    </tr>\n",
              "    <tr>\n",
              "      <th>Load</th>\n",
              "      <td>-7.713938e-02</td>\n",
              "    </tr>\n",
              "  </tbody>\n",
              "</table>\n",
              "</div>\n",
              "      <button class=\"colab-df-convert\" onclick=\"convertToInteractive('df-9ae46c63-ae28-4f70-ab38-cd583cc42b67')\"\n",
              "              title=\"Convert this dataframe to an interactive table.\"\n",
              "              style=\"display:none;\">\n",
              "        \n",
              "  <svg xmlns=\"http://www.w3.org/2000/svg\" height=\"24px\"viewBox=\"0 0 24 24\"\n",
              "       width=\"24px\">\n",
              "    <path d=\"M0 0h24v24H0V0z\" fill=\"none\"/>\n",
              "    <path d=\"M18.56 5.44l.94 2.06.94-2.06 2.06-.94-2.06-.94-.94-2.06-.94 2.06-2.06.94zm-11 1L8.5 8.5l.94-2.06 2.06-.94-2.06-.94L8.5 2.5l-.94 2.06-2.06.94zm10 10l.94 2.06.94-2.06 2.06-.94-2.06-.94-.94-2.06-.94 2.06-2.06.94z\"/><path d=\"M17.41 7.96l-1.37-1.37c-.4-.4-.92-.59-1.43-.59-.52 0-1.04.2-1.43.59L10.3 9.45l-7.72 7.72c-.78.78-.78 2.05 0 2.83L4 21.41c.39.39.9.59 1.41.59.51 0 1.02-.2 1.41-.59l7.78-7.78 2.81-2.81c.8-.78.8-2.07 0-2.86zM5.41 20L4 18.59l7.72-7.72 1.47 1.35L5.41 20z\"/>\n",
              "  </svg>\n",
              "      </button>\n",
              "      \n",
              "  <style>\n",
              "    .colab-df-container {\n",
              "      display:flex;\n",
              "      flex-wrap:wrap;\n",
              "      gap: 12px;\n",
              "    }\n",
              "\n",
              "    .colab-df-convert {\n",
              "      background-color: #E8F0FE;\n",
              "      border: none;\n",
              "      border-radius: 50%;\n",
              "      cursor: pointer;\n",
              "      display: none;\n",
              "      fill: #1967D2;\n",
              "      height: 32px;\n",
              "      padding: 0 0 0 0;\n",
              "      width: 32px;\n",
              "    }\n",
              "\n",
              "    .colab-df-convert:hover {\n",
              "      background-color: #E2EBFA;\n",
              "      box-shadow: 0px 1px 2px rgba(60, 64, 67, 0.3), 0px 1px 3px 1px rgba(60, 64, 67, 0.15);\n",
              "      fill: #174EA6;\n",
              "    }\n",
              "\n",
              "    [theme=dark] .colab-df-convert {\n",
              "      background-color: #3B4455;\n",
              "      fill: #D2E3FC;\n",
              "    }\n",
              "\n",
              "    [theme=dark] .colab-df-convert:hover {\n",
              "      background-color: #434B5C;\n",
              "      box-shadow: 0px 1px 3px 1px rgba(0, 0, 0, 0.15);\n",
              "      filter: drop-shadow(0px 1px 2px rgba(0, 0, 0, 0.3));\n",
              "      fill: #FFFFFF;\n",
              "    }\n",
              "  </style>\n",
              "\n",
              "      <script>\n",
              "        const buttonEl =\n",
              "          document.querySelector('#df-9ae46c63-ae28-4f70-ab38-cd583cc42b67 button.colab-df-convert');\n",
              "        buttonEl.style.display =\n",
              "          google.colab.kernel.accessAllowed ? 'block' : 'none';\n",
              "\n",
              "        async function convertToInteractive(key) {\n",
              "          const element = document.querySelector('#df-9ae46c63-ae28-4f70-ab38-cd583cc42b67');\n",
              "          const dataTable =\n",
              "            await google.colab.kernel.invokeFunction('convertToInteractive',\n",
              "                                                     [key], {});\n",
              "          if (!dataTable) return;\n",
              "\n",
              "          const docLinkHtml = 'Like what you see? Visit the ' +\n",
              "            '<a target=\"_blank\" href=https://colab.research.google.com/notebooks/data_table.ipynb>data table notebook</a>'\n",
              "            + ' to learn more about interactive tables.';\n",
              "          element.innerHTML = '';\n",
              "          dataTable['output_type'] = 'display_data';\n",
              "          await google.colab.output.renderOutput(dataTable, element);\n",
              "          const docLink = document.createElement('div');\n",
              "          docLink.innerHTML = docLinkHtml;\n",
              "          element.appendChild(docLink);\n",
              "        }\n",
              "      </script>\n",
              "    </div>\n",
              "  </div>\n",
              "  "
            ]
          },
          "metadata": {},
          "execution_count": 329
        }
      ]
    },
    {
      "cell_type": "code",
      "source": [
        "from statsmodels.stats.outliers_influence import variance_inflation_factor \n",
        "variance_inflation_factor(exog = X_pvalue.values, exog_idx = 1) "
      ],
      "metadata": {
        "colab": {
          "base_uri": "https://localhost:8080/"
        },
        "id": "-WthTLlaOyHV",
        "outputId": "f5fb8c27-803a-4a2e-ad52-d235ffac2992"
      },
      "execution_count": null,
      "outputs": [
        {
          "output_type": "execute_result",
          "data": {
            "text/plain": [
              "1.8839178172218571"
            ]
          },
          "metadata": {},
          "execution_count": 330
        }
      ]
    },
    {
      "cell_type": "code",
      "source": [
        "dfirst['diff'] = dfirst['V1'] - dfirst['V2']\n",
        "features = dfirst.drop(['V2','V1','diff', 'Date'], axis=1)\n",
        "predictions = []\n",
        "i = 0\n",
        "for index, row in features.iterrows():\n",
        "  pred = regr.predict(np.array([row]))\n",
        "  #print(dcheck['diff'][i])\n",
        "  predictions.append(pred)\n",
        "  i += 1"
      ],
      "metadata": {
        "id": "4rJyMu1kQrut"
      },
      "execution_count": null,
      "outputs": []
    },
    {
      "cell_type": "code",
      "source": [
        "#print(predictions)\n",
        "dfirst['pdiff'] = list(map(lambda x: x[0], predictions))\n",
        "print(dfirst[['diff', 'pdiff']])"
      ],
      "metadata": {
        "colab": {
          "base_uri": "https://localhost:8080/"
        },
        "id": "0_HZHwvIZffp",
        "outputId": "1d517179-7863-47ea-85e9-5245fdd091ba"
      },
      "execution_count": null,
      "outputs": [
        {
          "output_type": "stream",
          "name": "stdout",
          "text": [
            "      diff      pdiff\n",
            "0     18.4  15.940767\n",
            "1     48.9  43.455051\n",
            "2     27.1  26.424482\n",
            "3     40.1  43.576800\n",
            "4     46.5  35.740435\n",
            "...    ...        ...\n",
            "1297   NaN -15.172312\n",
            "1298   NaN  -7.182152\n",
            "1299   NaN   9.668980\n",
            "1300   NaN   7.463407\n",
            "1301   NaN  15.369184\n",
            "\n",
            "[1302 rows x 2 columns]\n"
          ]
        }
      ]
    },
    {
      "cell_type": "code",
      "source": [
        "dfirst.info()"
      ],
      "metadata": {
        "colab": {
          "base_uri": "https://localhost:8080/"
        },
        "id": "0YhnOdMmaRB3",
        "outputId": "bec74fc8-07ad-419a-bb7e-a8b31555c616"
      },
      "execution_count": null,
      "outputs": [
        {
          "output_type": "stream",
          "name": "stdout",
          "text": [
            "<class 'pandas.core.frame.DataFrame'>\n",
            "RangeIndex: 1302 entries, 0 to 1301\n",
            "Data columns (total 16 columns):\n",
            " #   Column    Non-Null Count  Dtype  \n",
            "---  ------    --------------  -----  \n",
            " 0   id        1302 non-null   int64  \n",
            " 1   Date      1302 non-null   object \n",
            " 2   Mileage   1302 non-null   float64\n",
            " 3   Moving    1302 non-null   int64  \n",
            " 4   Enabled   1302 non-null   int64  \n",
            " 5   ME        1302 non-null   int64  \n",
            " 6   nME       1302 non-null   int64  \n",
            " 7   HEnabled  1302 non-null   int64  \n",
            " 8   NEnabled  1302 non-null   int64  \n",
            " 9   PEnabled  1302 non-null   int64  \n",
            " 10  Off       1302 non-null   int64  \n",
            " 11  Load      1302 non-null   int64  \n",
            " 12  V1        31 non-null     float64\n",
            " 13  V2        31 non-null     float64\n",
            " 14  diff      31 non-null     float64\n",
            " 15  pdiff     1302 non-null   float64\n",
            "dtypes: float64(5), int64(10), object(1)\n",
            "memory usage: 162.9+ KB\n"
          ]
        }
      ]
    },
    {
      "cell_type": "code",
      "source": [
        "mask = np.zeros_like(dcheck.corr())\n",
        "triangle_indices=np.triu_indices_from(mask)\n",
        "mask[triangle_indices]= True\n",
        "from numpy.ma.core import mask_or\n",
        "plt.figure(figsize=(10,6))\n",
        "sns.heatmap(dcheck.corr(), annot=True, annot_kws={'size':10}, mask=mask)\n",
        "sns.set_style('white')\n",
        "plt.xticks(fontsize=10)\n",
        "plt.yticks(fontsize=10)"
      ],
      "metadata": {
        "colab": {
          "base_uri": "https://localhost:8080/",
          "height": 451
        },
        "id": "3n8SfopTalsI",
        "outputId": "8bfc6d6f-4760-46f3-d7df-0b0ad91e2e5c"
      },
      "execution_count": null,
      "outputs": [
        {
          "output_type": "execute_result",
          "data": {
            "text/plain": [
              "(array([ 0.5,  1.5,  2.5,  3.5,  4.5,  5.5,  6.5,  7.5,  8.5,  9.5, 10.5,\n",
              "        11.5, 12.5, 13.5]), <a list of 14 Text major ticklabel objects>)"
            ]
          },
          "metadata": {},
          "execution_count": 341
        },
        {
          "output_type": "display_data",
          "data": {
            "text/plain": [
              "<Figure size 720x432 with 2 Axes>"
            ],
            "image/png": "[encoded data removed]"
          },
          "metadata": {}
        }
      ]
    },
    {
      "cell_type": "code",
      "source": [
        "dfirst.head(5)"
      ],
      "metadata": {
        "colab": {
          "base_uri": "https://localhost:8080/",
          "height": 206
        },
        "id": "z99hJ4ifbT8-",
        "outputId": "89f212a7-ff2a-42a2-8f3f-745ee79422f5"
      },
      "execution_count": null,
      "outputs": [
        {
          "output_type": "execute_result",
          "data": {
            "text/plain": [
              "    id        Date  Mileage  Moving  Enabled   ME    nME  HEnabled  NEnabled  \\\n",
              "0  734  01.12.2021     1.21     297     4091  297   3794       711      3380   \n",
              "1  734  02.12.2021     1.04     207    20974  206  20768     20821       153   \n",
              "2  734  03.12.2021     1.72     252    10918  252  10666      9440      1478   \n",
              "3  734  04.12.2021     0.43     629    25283  629  24654     25097       186   \n",
              "4  734  05.12.2021     1.23     314     9202  302   8900      8992       210   \n",
              "\n",
              "   PEnabled    Off  Load     V1     V2  diff      pdiff  \n",
              "0         0  82309  3380  315.4  297.0  18.4  15.940767  \n",
              "1         0  65426   153  294.3  245.4  48.9  43.455051  \n",
              "2         0  75482  1478  244.9  217.8  27.1  26.424482  \n",
              "3         0  61117   186  217.0  176.9  40.1  43.576800  \n",
              "4         0  77198   210  174.1  127.6  46.5  35.740435  "
            ],
            "text/html": [
              "\n",
              "  <div id=\"df-5b25c312-607b-4156-9df8-11312298d8d9\">\n",
              "    <div class=\"colab-df-container\">\n",
              "      <div>\n",
              "<style scoped>\n",
              "    .dataframe tbody tr th:only-of-type {\n",
              "        vertical-align: middle;\n",
              "    }\n",
              "\n",
              "    .dataframe tbody tr th {\n",
              "        vertical-align: top;\n",
              "    }\n",
              "\n",
              "    .dataframe thead th {\n",
              "        text-align: right;\n",
              "    }\n",
              "</style>\n",
              "<table border=\"1\" class=\"dataframe\">\n",
              "  <thead>\n",
              "    <tr style=\"text-align: right;\">\n",
              "      <th></th>\n",
              "      <th>id</th>\n",
              "      <th>Date</th>\n",
              "      <th>Mileage</th>\n",
              "      <th>Moving</th>\n",
              "      <th>Enabled</th>\n",
              "      <th>ME</th>\n",
              "      <th>nME</th>\n",
              "      <th>HEnabled</th>\n",
              "      <th>NEnabled</th>\n",
              "      <th>PEnabled</th>\n",
              "      <th>Off</th>\n",
              "      <th>Load</th>\n",
              "      <th>V1</th>\n",
              "      <th>V2</th>\n",
              "      <th>diff</th>\n",
              "      <th>pdiff</th>\n",
              "    </tr>\n",
              "  </thead>\n",
              "  <tbody>\n",
              "    <tr>\n",
              "      <th>0</th>\n",
              "      <td>734</td>\n",
              "      <td>01.12.2021</td>\n",
              "      <td>1.21</td>\n",
              "      <td>297</td>\n",
              "      <td>4091</td>\n",
              "      <td>297</td>\n",
              "      <td>3794</td>\n",
              "      <td>711</td>\n",
              "      <td>3380</td>\n",
              "      <td>0</td>\n",
              "      <td>82309</td>\n",
              "      <td>3380</td>\n",
              "      <td>315.4</td>\n",
              "      <td>297.0</td>\n",
              "      <td>18.4</td>\n",
              "      <td>15.940767</td>\n",
              "    </tr>\n",
              "    <tr>\n",
              "      <th>1</th>\n",
              "      <td>734</td>\n",
              "      <td>02.12.2021</td>\n",
              "      <td>1.04</td>\n",
              "      <td>207</td>\n",
              "      <td>20974</td>\n",
              "      <td>206</td>\n",
              "      <td>20768</td>\n",
              "      <td>20821</td>\n",
              "      <td>153</td>\n",
              "      <td>0</td>\n",
              "      <td>65426</td>\n",
              "      <td>153</td>\n",
              "      <td>294.3</td>\n",
              "      <td>245.4</td>\n",
              "      <td>48.9</td>\n",
              "      <td>43.455051</td>\n",
              "    </tr>\n",
              "    <tr>\n",
              "      <th>2</th>\n",
              "      <td>734</td>\n",
              "      <td>03.12.2021</td>\n",
              "      <td>1.72</td>\n",
              "      <td>252</td>\n",
              "      <td>10918</td>\n",
              "      <td>252</td>\n",
              "      <td>10666</td>\n",
              "      <td>9440</td>\n",
              "      <td>1478</td>\n",
              "      <td>0</td>\n",
              "      <td>75482</td>\n",
              "      <td>1478</td>\n",
              "      <td>244.9</td>\n",
              "      <td>217.8</td>\n",
              "      <td>27.1</td>\n",
              "      <td>26.424482</td>\n",
              "    </tr>\n",
              "    <tr>\n",
              "      <th>3</th>\n",
              "      <td>734</td>\n",
              "      <td>04.12.2021</td>\n",
              "      <td>0.43</td>\n",
              "      <td>629</td>\n",
              "      <td>25283</td>\n",
              "      <td>629</td>\n",
              "      <td>24654</td>\n",
              "      <td>25097</td>\n",
              "      <td>186</td>\n",
              "      <td>0</td>\n",
              "      <td>61117</td>\n",
              "      <td>186</td>\n",
              "      <td>217.0</td>\n",
              "      <td>176.9</td>\n",
              "      <td>40.1</td>\n",
              "      <td>43.576800</td>\n",
              "    </tr>\n",
              "    <tr>\n",
              "      <th>4</th>\n",
              "      <td>734</td>\n",
              "      <td>05.12.2021</td>\n",
              "      <td>1.23</td>\n",
              "      <td>314</td>\n",
              "      <td>9202</td>\n",
              "      <td>302</td>\n",
              "      <td>8900</td>\n",
              "      <td>8992</td>\n",
              "      <td>210</td>\n",
              "      <td>0</td>\n",
              "      <td>77198</td>\n",
              "      <td>210</td>\n",
              "      <td>174.1</td>\n",
              "      <td>127.6</td>\n",
              "      <td>46.5</td>\n",
              "      <td>35.740435</td>\n",
              "    </tr>\n",
              "  </tbody>\n",
              "</table>\n",
              "</div>\n",
              "      <button class=\"colab-df-convert\" onclick=\"convertToInteractive('df-5b25c312-607b-4156-9df8-11312298d8d9')\"\n",
              "              title=\"Convert this dataframe to an interactive table.\"\n",
              "              style=\"display:none;\">\n",
              "        \n",
              "  <svg xmlns=\"http://www.w3.org/2000/svg\" height=\"24px\"viewBox=\"0 0 24 24\"\n",
              "       width=\"24px\">\n",
              "    <path d=\"M0 0h24v24H0V0z\" fill=\"none\"/>\n",
              "    <path d=\"M18.56 5.44l.94 2.06.94-2.06 2.06-.94-2.06-.94-.94-2.06-.94 2.06-2.06.94zm-11 1L8.5 8.5l.94-2.06 2.06-.94-2.06-.94L8.5 2.5l-.94 2.06-2.06.94zm10 10l.94 2.06.94-2.06 2.06-.94-2.06-.94-.94-2.06-.94 2.06-2.06.94z\"/><path d=\"M17.41 7.96l-1.37-1.37c-.4-.4-.92-.59-1.43-.59-.52 0-1.04.2-1.43.59L10.3 9.45l-7.72 7.72c-.78.78-.78 2.05 0 2.83L4 21.41c.39.39.9.59 1.41.59.51 0 1.02-.2 1.41-.59l7.78-7.78 2.81-2.81c.8-.78.8-2.07 0-2.86zM5.41 20L4 18.59l7.72-7.72 1.47 1.35L5.41 20z\"/>\n",
              "  </svg>\n",
              "      </button>\n",
              "      \n",
              "  <style>\n",
              "    .colab-df-container {\n",
              "      display:flex;\n",
              "      flex-wrap:wrap;\n",
              "      gap: 12px;\n",
              "    }\n",
              "\n",
              "    .colab-df-convert {\n",
              "      background-color: #E8F0FE;\n",
              "      border: none;\n",
              "      border-radius: 50%;\n",
              "      cursor: pointer;\n",
              "      display: none;\n",
              "      fill: #1967D2;\n",
              "      height: 32px;\n",
              "      padding: 0 0 0 0;\n",
              "      width: 32px;\n",
              "    }\n",
              "\n",
              "    .colab-df-convert:hover {\n",
              "      background-color: #E2EBFA;\n",
              "      box-shadow: 0px 1px 2px rgba(60, 64, 67, 0.3), 0px 1px 3px 1px rgba(60, 64, 67, 0.15);\n",
              "      fill: #174EA6;\n",
              "    }\n",
              "\n",
              "    [theme=dark] .colab-df-convert {\n",
              "      background-color: #3B4455;\n",
              "      fill: #D2E3FC;\n",
              "    }\n",
              "\n",
              "    [theme=dark] .colab-df-convert:hover {\n",
              "      background-color: #434B5C;\n",
              "      box-shadow: 0px 1px 3px 1px rgba(0, 0, 0, 0.15);\n",
              "      filter: drop-shadow(0px 1px 2px rgba(0, 0, 0, 0.3));\n",
              "      fill: #FFFFFF;\n",
              "    }\n",
              "  </style>\n",
              "\n",
              "      <script>\n",
              "        const buttonEl =\n",
              "          document.querySelector('#df-5b25c312-607b-4156-9df8-11312298d8d9 button.colab-df-convert');\n",
              "        buttonEl.style.display =\n",
              "          google.colab.kernel.accessAllowed ? 'block' : 'none';\n",
              "\n",
              "        async function convertToInteractive(key) {\n",
              "          const element = document.querySelector('#df-5b25c312-607b-4156-9df8-11312298d8d9');\n",
              "          const dataTable =\n",
              "            await google.colab.kernel.invokeFunction('convertToInteractive',\n",
              "                                                     [key], {});\n",
              "          if (!dataTable) return;\n",
              "\n",
              "          const docLinkHtml = 'Like what you see? Visit the ' +\n",
              "            '<a target=\"_blank\" href=https://colab.research.google.com/notebooks/data_table.ipynb>data table notebook</a>'\n",
              "            + ' to learn more about interactive tables.';\n",
              "          element.innerHTML = '';\n",
              "          dataTable['output_type'] = 'display_data';\n",
              "          await google.colab.output.renderOutput(dataTable, element);\n",
              "          const docLink = document.createElement('div');\n",
              "          docLink.innerHTML = docLinkHtml;\n",
              "          element.appendChild(docLink);\n",
              "        }\n",
              "      </script>\n",
              "    </div>\n",
              "  </div>\n",
              "  "
            ]
          },
          "metadata": {},
          "execution_count": 342
        }
      ]
    },
    {
      "cell_type": "code",
      "source": [
        "grouped = dfirst.groupby('id')['pdiff'].max()\n",
        "print(grouped)"
      ],
      "metadata": {
        "colab": {
          "base_uri": "https://localhost:8080/"
        },
        "id": "sv9VGuSObh3P",
        "outputId": "351aa178-aee7-4722-cde5-6de23f8bc5f9"
      },
      "execution_count": null,
      "outputs": [
        {
          "output_type": "stream",
          "name": "stdout",
          "text": [
            "id\n",
            "106       14.585789\n",
            "113       39.539740\n",
            "123      152.612702\n",
            "133       21.796276\n",
            "154     1622.829453\n",
            "155      115.034850\n",
            "158       12.805912\n",
            "230       15.104860\n",
            "242       21.567235\n",
            "298       13.600320\n",
            "341    20015.933228\n",
            "410       90.402987\n",
            "411      126.719377\n",
            "471       14.503427\n",
            "578       14.012608\n",
            "585    20082.692391\n",
            "606       13.664486\n",
            "612    33430.343198\n",
            "638       28.776372\n",
            "661    20004.847509\n",
            "671    33433.237780\n",
            "681       86.100211\n",
            "712       15.369184\n",
            "728       15.185785\n",
            "734       57.095763\n",
            "740       15.710129\n",
            "757       15.120183\n",
            "783       15.369663\n",
            "786       13.348925\n",
            "788    19565.182064\n",
            "805       14.635589\n",
            "837       13.769353\n",
            "877       12.881091\n",
            "885       15.369184\n",
            "891    28268.813223\n",
            "915       14.436867\n",
            "916       15.147477\n",
            "928       13.312054\n",
            "930      129.261073\n",
            "939       31.113221\n",
            "969       12.282531\n",
            "982       13.875179\n",
            "Name: pdiff, dtype: float64\n"
          ]
        }
      ]
    }
  ]
}